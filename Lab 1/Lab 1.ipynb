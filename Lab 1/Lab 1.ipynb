{
 "cells": [
  {
   "cell_type": "markdown",
   "id": "c0e9b16f-aaa0-48f0-8d7a-ef9948762840",
   "metadata": {},
   "source": [
    "# Lab 1 - Digital Image Processing\n",
    "## Matrix Addition and Multiplication\n",
    "## Bahria University Islamabad\n",
    "\n",
    "**Name:** Saadat Hussain  \n",
    "**Enrolment:** 01-134211-078  \n",
    "**Class-Section:** BSCS 7-B  "
   ]
  },
  {
   "cell_type": "markdown",
   "id": "4eeb423b-b815-4b96-9299-d7cabcb61b9f",
   "metadata": {},
   "source": [
    "#### Importing Dependencies"
   ]
  },
  {
   "cell_type": "code",
   "execution_count": 1,
   "id": "d240e32e-1519-4c2f-9531-cd837c70ffa1",
   "metadata": {},
   "outputs": [],
   "source": [
    "import numpy as np"
   ]
  },
  {
   "cell_type": "markdown",
   "id": "0556e7e3-f5ed-400e-b524-7697282a4390",
   "metadata": {},
   "source": [
    "### Task 1 - Matrix Addition\n",
    "Write a Python program that adds two matrices provided by the user. The program should ask for the dimensions of the matrices and ensure that they have the same dimensions before performing the addition. "
   ]
  },
  {
   "cell_type": "code",
   "execution_count": 2,
   "id": "57883fac-73c4-4660-88f2-18a2d411f5b3",
   "metadata": {},
   "outputs": [],
   "source": [
    "# Dimensions input for matrices\n",
    "def input_dimensions():\n",
    "    rows = int(input(\"Enter # of rows:\"))\n",
    "    columns = int(input(\"Enter # of columns:\"))\n",
    "    return rows, columns\n",
    "\n",
    "# Elements input\n",
    "def input_elements(rows, cols, name):\n",
    "    print(f\"Enter elements for {name}:\")\n",
    "    matrix = [] #empty matrix which must be appended after user inputs elements\n",
    "    for i in range(rows):\n",
    "        row = []\n",
    "        for j in range(cols):\n",
    "            element = float(input(f\"Enter element [{i}][{j}]: \"))\n",
    "            row.append(element)\n",
    "        matrix.append(row)\n",
    "    return np.array(matrix)\n",
    "\n",
    "# Matrix Addition\n",
    "def matrix_addition(matrix_a, matrix_b):\\\n",
    "    #check if matrix addition possible using shape function\n",
    "    if matrix_a.shape != matrix_b.shape:\n",
    "        return \"Matrix Addition is not possible as both matrices have different dimensions.\"\n",
    "    rows, cols = matrix_a.shape\n",
    "    result = np.zeros((rows,cols)) #Initializing Resultant Matrix with Zeros\n",
    "    for i in range(rows): # nested for loop to traverse matrix\n",
    "        for j in range(cols): \n",
    "            result[i][j] = matrix_a[i][j] + matrix_b[i][j] #Element wise addtion\n",
    "    return result\n",
    "    \n",
    "    "
   ]
  },
  {
   "cell_type": "code",
   "execution_count": 4,
   "id": "c9abd31d-cfb6-4eb0-a876-d8f904d8598d",
   "metadata": {},
   "outputs": [
    {
     "name": "stdout",
     "output_type": "stream",
     "text": [
      "For Matrix A:\n"
     ]
    },
    {
     "name": "stdin",
     "output_type": "stream",
     "text": [
      "Enter # of rows: 3\n",
      "Enter # of columns: 3\n"
     ]
    },
    {
     "name": "stdout",
     "output_type": "stream",
     "text": [
      "Enter elements for Matrix A:\n"
     ]
    },
    {
     "name": "stdin",
     "output_type": "stream",
     "text": [
      "Enter element [0][0]:  1\n",
      "Enter element [0][1]:  2\n",
      "Enter element [0][2]:  3\n",
      "Enter element [1][0]:  4\n",
      "Enter element [1][1]:  5\n",
      "Enter element [1][2]:  6\n",
      "Enter element [2][0]:  7\n",
      "Enter element [2][1]:  8\n",
      "Enter element [2][2]:  9\n"
     ]
    },
    {
     "name": "stdout",
     "output_type": "stream",
     "text": [
      "\n",
      "For Matrix B:\n"
     ]
    },
    {
     "name": "stdin",
     "output_type": "stream",
     "text": [
      "Enter # of rows: 3\n",
      "Enter # of columns: 3\n"
     ]
    },
    {
     "name": "stdout",
     "output_type": "stream",
     "text": [
      "Enter elements for Matrix B:\n"
     ]
    },
    {
     "name": "stdin",
     "output_type": "stream",
     "text": [
      "Enter element [0][0]:  9\n",
      "Enter element [0][1]:  8\n",
      "Enter element [0][2]:  7\n",
      "Enter element [1][0]:  6\n",
      "Enter element [1][1]:  5\n",
      "Enter element [1][2]:  4\n",
      "Enter element [2][0]:  3\n",
      "Enter element [2][1]:  2\n",
      "Enter element [2][2]:  1\n"
     ]
    },
    {
     "name": "stdout",
     "output_type": "stream",
     "text": [
      "Result = \n",
      " [[10. 10. 10.]\n",
      " [10. 10. 10.]\n",
      " [10. 10. 10.]]\n"
     ]
    }
   ],
   "source": [
    "## Driver Cell\n",
    "\n",
    "print(\"For Matrix A:\")\n",
    "rows_a, cols_a = input_dimensions()\n",
    "matrix_a = input_elements(rows_a, cols_a, \"Matrix A\")\n",
    "\n",
    "print(\"\\nFor Matrix B:\")\n",
    "rows_b, cols_b = input_dimensions()\n",
    "matrix_b = input_elements(rows_b, cols_b, \"Matrix B\")\n",
    "\n",
    "result = matrix_addition(matrix_a, matrix_b)\n",
    "\n",
    "print(\"Result = \\n\", result)"
   ]
  },
  {
   "cell_type": "markdown",
   "id": "888c6af8-becb-4bbe-b59f-cb476514f83f",
   "metadata": {},
   "source": [
    "### Task 2 - Matrix Multiplication\n",
    "Write a Python program to multiply two matrices provided by the user. The program should check if the number of columns in the first matrix is equal to the number of rows in the second matrix.\n"
   ]
  },
  {
   "cell_type": "code",
   "execution_count": 5,
   "id": "7dfdc4b3-c0cb-4555-8e3c-6c801b990492",
   "metadata": {},
   "outputs": [],
   "source": [
    "# Dimensions input for matrices\n",
    "def input_dimensions():\n",
    "    rows = int(input(\"Enter # of rows:\"))\n",
    "    columns = int(input(\"Enter # of columns:\"))\n",
    "    return rows, columns\n",
    "\n",
    "# Elements input\n",
    "def input_elements(rows, cols, name):\n",
    "    print(f\"Enter elements for {name}:\")\n",
    "    matrix = [] #empty matrix which must be appended after user inputs elements\n",
    "    for i in range(rows):\n",
    "        row = []\n",
    "        for j in range(cols):\n",
    "            element = float(input(f\"Enter element [{i}][{j}]: \"))\n",
    "            row.append(element)\n",
    "        matrix.append(row)\n",
    "    return np.array(matrix)\n",
    "\n",
    "# Matrix Multiplication\n",
    "def matrix_multiplication(matrix_a, matrix_b):\n",
    "    if len(matrix_a[0]) != len(matrix_b):\n",
    "        return \"Matrix multiplication is not possible as the number of columns in the first matrix does not match the number of rows in the second matrix.\"\n",
    "    \n",
    "    result = []\n",
    "    for i in range(len(matrix_a)):\n",
    "        row = []\n",
    "        for j in range(len(matrix_b[0])):\n",
    "            row.append(0)\n",
    "        result.append(row)\n",
    "    \n",
    "    for i in range(len(matrix_a)):\n",
    "        for j in range(len(matrix_b[0])):\n",
    "            for k in range(len(matrix_b)):\n",
    "                result[i][j] += matrix_a[i][k] * matrix_b[k][j]\n",
    "    return result"
   ]
  },
  {
   "cell_type": "code",
   "execution_count": 6,
   "id": "86b03b04-244b-48a5-bc7c-f5bd9c91eed3",
   "metadata": {},
   "outputs": [
    {
     "name": "stdout",
     "output_type": "stream",
     "text": [
      "For Matrix A:\n"
     ]
    },
    {
     "name": "stdin",
     "output_type": "stream",
     "text": [
      "Enter # of rows: 2\n",
      "Enter # of columns: 2\n"
     ]
    },
    {
     "name": "stdout",
     "output_type": "stream",
     "text": [
      "Enter elements for Matrix A:\n"
     ]
    },
    {
     "name": "stdin",
     "output_type": "stream",
     "text": [
      "Enter element [0][0]:  2\n",
      "Enter element [0][1]:  4\n",
      "Enter element [1][0]:  1\n",
      "Enter element [1][1]:  2\n"
     ]
    },
    {
     "name": "stdout",
     "output_type": "stream",
     "text": [
      "\n",
      "For Matrix B:\n"
     ]
    },
    {
     "name": "stdin",
     "output_type": "stream",
     "text": [
      "Enter # of rows: 2\n",
      "Enter # of columns: 4\n"
     ]
    },
    {
     "name": "stdout",
     "output_type": "stream",
     "text": [
      "Enter elements for Matrix B:\n"
     ]
    },
    {
     "name": "stdin",
     "output_type": "stream",
     "text": [
      "Enter element [0][0]:  1\n",
      "Enter element [0][1]:  2\n",
      "Enter element [0][2]:  3\n",
      "Enter element [0][3]:  4\n",
      "Enter element [1][0]:  5\n",
      "Enter element [1][1]:  6\n",
      "Enter element [1][2]:  7\n",
      "Enter element [1][3]:  8\n"
     ]
    },
    {
     "name": "stdout",
     "output_type": "stream",
     "text": [
      "Result = \n",
      " [[22.0, 28.0, 34.0, 40.0], [11.0, 14.0, 17.0, 20.0]]\n"
     ]
    }
   ],
   "source": [
    "# Driver Code\n",
    "print(\"For Matrix A:\")\n",
    "rows_a, cols_a = input_dimensions()\n",
    "matrix_a = input_elements(rows_a, cols_a, \"Matrix A\")\n",
    "\n",
    "print(\"\\nFor Matrix B:\")\n",
    "rows_b, cols_b = input_dimensions()\n",
    "matrix_b = input_elements(rows_b, cols_b, \"Matrix B\")\n",
    "\n",
    "result = matrix_multiplication(matrix_a, matrix_b)\n",
    "print(\"Result = \\n\", result)"
   ]
  }
 ],
 "metadata": {
  "kernelspec": {
   "display_name": "my_kernel",
   "language": "python",
   "name": "my_kernel"
  },
  "language_info": {
   "codemirror_mode": {
    "name": "ipython",
    "version": 3
   },
   "file_extension": ".py",
   "mimetype": "text/x-python",
   "name": "python",
   "nbconvert_exporter": "python",
   "pygments_lexer": "ipython3",
   "version": "3.12.5"
  }
 },
 "nbformat": 4,
 "nbformat_minor": 5
}
